{
 "cells": [
  {
   "cell_type": "markdown",
   "metadata": {},
   "source": [
    "## Reconstructions"
   ]
  },
  {
   "cell_type": "code",
   "execution_count": 3,
   "metadata": {},
   "outputs": [],
   "source": [
    "# -------------\n",
    "# I M P O R T S\n",
    "# -------------\n",
    "\n",
    "# MXNET:\n",
    "import mxnet as mx\n",
    "from mxnet import Context, cpu, gpu\n",
    "from mxnet.ndarray import concat\n",
    "\n",
    "# Other libraries:\n",
    "\n",
    "from tqdm import tqdm\n",
    "import matplotlib.pyplot as plt \n",
    "import numpy as np\n",
    "import discriminator as dis\n",
    "import time\n",
    "from glob import glob\n",
    "\n",
    "# MODULES:\n",
    "from generator_FC import Generator\n",
    "import modules as modules\n",
    "from util import Device"
   ]
  },
  {
   "cell_type": "code",
   "execution_count": 4,
   "metadata": {},
   "outputs": [],
   "source": [
    "runname = f'baseline_FC_1'\n",
    "device = Device.GPU2\n",
    "batch_size = 4\n",
    "in_chan = 15\n",
    "epoch = 6"
   ]
  },
  {
   "cell_type": "code",
   "execution_count": 5,
   "metadata": {},
   "outputs": [],
   "source": [
    "context = cpu() if device.value == -1 else gpu(device.value)\n",
    "\n",
    "with Context(context):\n",
    "\n",
    "    test_iter = modules.make_iterator_preprocessed('testing', 'V1', 'V2', 'V3', batch_size=batch_size, shuffle=False)\n",
    "\n",
    "    RF_signals_lengths = []\n",
    "    for *RFsignals, targets in test_iter:\n",
    "        for s in RFsignals:\n",
    "            RF_signals_lengths.append(s.shape[2])\n",
    "        break\n",
    "\n",
    "    generator = Generator(in_chan, context, RF_in_units=RF_signals_lengths, \n",
    "                          conv_input_shape=(96, 96),\n",
    "                              train_RF=True)\n",
    "    \n",
    "    generator.network.load_parameters(f'saved_models/{runname}/netG_{epoch}.model', ctx=context) \n",
    "    generator.rf_mapper.load_parameters(f'saved_models/{runname}/RFlayers_{epoch}.model')\n",
    "\n",
    "    g = generator.network\n"
   ]
  },
  {
   "cell_type": "code",
   "execution_count": 6,
   "metadata": {},
   "outputs": [
    {
     "name": "stderr",
     "output_type": "stream",
     "text": [
      "100%|██████████| 259/259 [00:03<00:00, 74.16it/s]\n"
     ]
    }
   ],
   "source": [
    "# ====================\n",
    "# T R AI N I N G\n",
    "# ====================\n",
    "\n",
    "outputs_lst = []\n",
    "targets_lst = []\n",
    "learned_inputs_lst = []\n",
    "for *RFsignals, targets in tqdm(test_iter, total = len(test_iter)):\n",
    "    with Context(context):\n",
    "        # -----\n",
    "        # Inputs\n",
    "        # -----\n",
    "        RFsignals = [x.as_in_context(context) for x in RFsignals]\n",
    "\n",
    "        learned_inputs = generator.rf_mapper(RFsignals).reshape((-1,15, 96,96))\n",
    "\n",
    "        # ------------------------------------\n",
    "        # T R A I N  D i s c r i m i n a t o r\n",
    "        # ------------------------------------\n",
    "        targets = targets.as_in_context(context)\n",
    "\n",
    "        outputs = g(learned_inputs).reshape((-1,3, 96,96))\n",
    "        \n",
    "    outputs_np = outputs.asnumpy()\n",
    "    targets_np = targets.asnumpy()\n",
    "    learned_inputs_np = learned_inputs.asnumpy()\n",
    "\n",
    "    outputs_lst.append(outputs_np)\n",
    "    targets_lst.append(targets_np)\n",
    "    learned_inputs_lst.append(learned_inputs_np)"
   ]
  },
  {
   "cell_type": "code",
   "execution_count": 7,
   "metadata": {},
   "outputs": [],
   "source": [
    "outputs = np.concatenate(outputs_lst)\n",
    "targets = np.concatenate(targets_lst)\n",
    "learned_inputs = np.concatenate(learned_inputs_lst)\n"
   ]
  },
  {
   "cell_type": "code",
   "execution_count": 8,
   "metadata": {},
   "outputs": [],
   "source": [
    "np.savez_compressed(f'../final_reconstructions/FC_layers_model', learned_inputs = learned_inputs, targets = targets, outputs = outputs)"
   ]
  },
  {
   "cell_type": "code",
   "execution_count": null,
   "metadata": {},
   "outputs": [],
   "source": []
  }
 ],
 "metadata": {
  "kernelspec": {
   "display_name": "Python 3",
   "language": "python",
   "name": "python3"
  },
  "language_info": {
   "codemirror_mode": {
    "name": "ipython",
    "version": 3
   },
   "file_extension": ".py",
   "mimetype": "text/x-python",
   "name": "python",
   "nbconvert_exporter": "python",
   "pygments_lexer": "ipython3",
   "version": "3.7.1"
  }
 },
 "nbformat": 4,
 "nbformat_minor": 2
}
