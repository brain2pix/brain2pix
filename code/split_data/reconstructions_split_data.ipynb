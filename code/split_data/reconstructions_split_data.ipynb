{
 "cells": [
  {
   "cell_type": "markdown",
   "metadata": {},
   "source": [
    "### Reconstructions of the trained models\n",
    "- splitted data: 20, 40 ,60 ,80 ,100\n",
    "- FC_training:\n",
    "- video_output:\n"
   ]
  },
  {
   "cell_type": "markdown",
   "metadata": {},
   "source": [
    "### Splitted_data\n",
    "This is a regular model"
   ]
  },
  {
   "cell_type": "code",
   "execution_count": 1,
   "metadata": {},
   "outputs": [],
   "source": [
    "import mxnet as mx\n",
    "import numpy as np\n",
    "\n",
    "from mxnet import Context, cpu, gpu\n",
    "from tqdm import tqdm\n",
    " \n",
    "from generator_vgg import Generator\n",
    "\n",
    "from util import Device\n",
    "import matplotlib.pyplot as plt \n",
    "\n",
    "from mxnet.ndarray import concat\n",
    "import modules\n",
    "from generator_vgg import Generator_prediction\n",
    "import modules_for_loading"
   ]
  },
  {
   "cell_type": "code",
   "execution_count": 2,
   "metadata": {},
   "outputs": [],
   "source": [
    "def save_construct(runname, epoch,  ):\n",
    "    rel_dir = 'saved_models'\n",
    "    set_t = 'testing'\n",
    "    time_range=5\n",
    "    in_chan = 15\n",
    "    \n",
    "    device = Device.GPU2\n",
    "    context = cpu() if device.value == -1 else gpu(device.value)\n",
    "\n",
    "    iterator = modules.make_iterator_preprocessed(set_t, 'V1', 'V2', 'V3', shift=4, batch_size=16, time_range=time_range)\n",
    "\n",
    "    outputs_lst = []\n",
    "    targets_lst = []\n",
    "    inputs_lst = []\n",
    "    with Context(context):\n",
    "        RFlocs_V1_overlapped_avg = modules.get_RFs('V1', context)\n",
    "        RFlocs_V2_overlapped_avg = modules.get_RFs('V2', context)\n",
    "        RFlocs_V3_overlapped_avg = modules.get_RFs('V3', context)\n",
    "        \n",
    "        generator = Generator_prediction(in_chan, context)\n",
    "        generator.network.load_parameters(f'{rel_dir}/{runname}/netG_{epoch}.model', ctx=context)\n",
    "\n",
    "    for RFsignalsV1, RFsignalsV2, RFsignalsV3, targets in tqdm(iterator):\n",
    "        with Context(context):\n",
    "\n",
    "\n",
    "            # -----\n",
    "            # Inputs\n",
    "            # -----\n",
    "            inputsV1 = modules.get_inputsROI(RFsignalsV1, RFlocs_V1_overlapped_avg, context)\n",
    "            inputsV2 = modules.get_inputsROI(RFsignalsV2, RFlocs_V2_overlapped_avg, context)\n",
    "            inputsV3 = modules.get_inputsROI(RFsignalsV3, RFlocs_V3_overlapped_avg, context)\n",
    "\n",
    "            inputs = concat(inputsV1, inputsV2, inputsV3, dim=1)\n",
    "\n",
    "            outputs = generator.network(inputs)\n",
    "            targets = targets.as_in_context(context).transpose((0,1,2,3))\n",
    "\n",
    "        outputs_np = outputs.asnumpy()\n",
    "        targets_np = targets.asnumpy()\n",
    "        inputs_np = inputs.asnumpy()\n",
    "        \n",
    "#         outputs_np = np.clip(255 * outputs, 0, 255).\n",
    "#         targets_np = np.clip(255 * targets, 0, 255)\n",
    "\n",
    "        outputs_lst.append(outputs_np)\n",
    "        targets_lst.append(targets_np)\n",
    "        inputs_lst.append(inputs_np)\n",
    "\n",
    "    outputs = np.concatenate(outputs_lst)\n",
    "    targets = np.concatenate(targets_lst)\n",
    "    inputs = np.concatenate(inputs_lst)\n",
    "    \n",
    "    np.savez_compressed(f'../final_reconstructions/{runname}', inputs = inputs, targets = targets, outputs = outputs)"
   ]
  },
  {
   "cell_type": "code",
   "execution_count": 3,
   "metadata": {},
   "outputs": [
    {
     "name": "stderr",
     "output_type": "stream",
     "text": [
      "100%|██████████| 65/65 [00:05<00:00,  7.28it/s]\n",
      "100%|██████████| 65/65 [00:05<00:00,  9.98it/s]\n",
      "100%|██████████| 65/65 [00:05<00:00,  9.97it/s]\n",
      "100%|██████████| 65/65 [00:05<00:00, 10.16it/s]\n"
     ]
    }
   ],
   "source": [
    "save_construct('splitted_data_0.2', 49)\n",
    "save_construct('splitted_data_0.4', 49)\n",
    "save_construct('splitted_data_0.6', 49)\n",
    "save_construct('splitted_data_0.8', 49)"
   ]
  },
  {
   "cell_type": "code",
   "execution_count": 4,
   "metadata": {},
   "outputs": [
    {
     "name": "stderr",
     "output_type": "stream",
     "text": [
      "100%|██████████| 65/65 [00:05<00:00,  9.98it/s]\n"
     ]
    }
   ],
   "source": [
    "save_construct('splitted_data_1.0', 50)"
   ]
  }
 ],
 "metadata": {
  "kernelspec": {
   "display_name": "Python 3",
   "language": "python",
   "name": "python3"
  },
  "language_info": {
   "codemirror_mode": {
    "name": "ipython",
    "version": 3
   },
   "file_extension": ".py",
   "mimetype": "text/x-python",
   "name": "python",
   "nbconvert_exporter": "python",
   "pygments_lexer": "ipython3",
   "version": "3.7.1"
  }
 },
 "nbformat": 4,
 "nbformat_minor": 2
}
